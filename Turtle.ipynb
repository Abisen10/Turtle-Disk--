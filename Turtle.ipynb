{
 "cells": [
  {
   "cell_type": "code",
   "execution_count": 8,
   "id": "92fa0045",
   "metadata": {},
   "outputs": [],
   "source": [
    "from turtle import*\n",
    "import colorsys\n",
    "\n",
    "speed(0)\n",
    "pensize(3)\n",
    "bgcolor('black')\n",
    "hue=0.0\n",
    "\n",
    "for i in range(300):\n",
    "    col=colorsys.hsv_to_rgb(hue,1,1)\n",
    "    pencolor(col)\n",
    "    hue+=0.005\n",
    "    circle(5-i,100)\n",
    "    lt(80)\n",
    "    circle(5-i,100)\n",
    "    rt(100)\n",
    "    done"
   ]
  },
  {
   "cell_type": "code",
   "execution_count": null,
   "id": "79f9f93e",
   "metadata": {},
   "outputs": [],
   "source": []
  }
 ],
 "metadata": {
  "kernelspec": {
   "display_name": "Python 3 (ipykernel)",
   "language": "python",
   "name": "python3"
  },
  "language_info": {
   "codemirror_mode": {
    "name": "ipython",
    "version": 3
   },
   "file_extension": ".py",
   "mimetype": "text/x-python",
   "name": "python",
   "nbconvert_exporter": "python",
   "pygments_lexer": "ipython3",
   "version": "3.9.12"
  }
 },
 "nbformat": 4,
 "nbformat_minor": 5
}
